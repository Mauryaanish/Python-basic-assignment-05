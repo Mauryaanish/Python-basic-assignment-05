{
  "nbformat": 4,
  "nbformat_minor": 0,
  "metadata": {
    "colab": {
      "provenance": []
    },
    "kernelspec": {
      "name": "python3",
      "display_name": "Python 3"
    },
    "language_info": {
      "name": "python"
    }
  },
  "cells": [
    {
      "cell_type": "markdown",
      "source": [
        "## 1. What does an empty dictionary&#39;s code look like?\n",
        "\n",
        "Answer:- {} empty dict"
      ],
      "metadata": {
        "id": "S4eoYMMzc5dA"
      }
    },
    {
      "cell_type": "code",
      "source": [],
      "metadata": {
        "id": "ISDvmqzRdKZ1"
      },
      "execution_count": null,
      "outputs": []
    },
    {
      "cell_type": "markdown",
      "source": [
        "## 2. What is the value of a dictionary value with the key &#39;foo&#39; and the value 42?\n",
        "\n",
        "Answer:- {\"foo\" : 42}"
      ],
      "metadata": {
        "id": "2o8JsH-RdLTM"
      }
    },
    {
      "cell_type": "code",
      "source": [],
      "metadata": {
        "id": "G4pY_hsyeAta"
      },
      "execution_count": null,
      "outputs": []
    },
    {
      "cell_type": "markdown",
      "source": [
        "## 3. What is the most significant distinction between a dictionary and a list?\n",
        "\n",
        "Answer:- The items stored in a dictionary are unordered, while the items in a list are ordered."
      ],
      "metadata": {
        "id": "LYalP2qReDzN"
      }
    },
    {
      "cell_type": "code",
      "source": [],
      "metadata": {
        "id": "ghE7d8TseNyt"
      },
      "execution_count": null,
      "outputs": []
    },
    {
      "cell_type": "markdown",
      "source": [
        "## 4. What happens if you try to access spam[&#39;foo&#39;] if spam is {&#39;bar&#39;: 100}?\n",
        "\n",
        "Answer:- You get a KeyError error."
      ],
      "metadata": {
        "id": "jOUX7GCqeOik"
      }
    },
    {
      "cell_type": "code",
      "source": [],
      "metadata": {
        "id": "gHjfMtoCeZ7n"
      },
      "execution_count": null,
      "outputs": []
    },
    {
      "cell_type": "markdown",
      "source": [
        "## 5. If a dictionary is stored in spam, what is the difference between the expressions &#39;cat&#39; in spam and\n",
        "&#39;cat&#39; in spam.keys()?\n",
        "\n",
        "Answer:- There is no difference. The in operator checks whether a value exists as a key in the dictionary"
      ],
      "metadata": {
        "id": "TMH1wEQAeiG-"
      }
    },
    {
      "cell_type": "code",
      "source": [],
      "metadata": {
        "id": "WoXoeHI7erFs"
      },
      "execution_count": null,
      "outputs": []
    },
    {
      "cell_type": "markdown",
      "source": [
        "## 6. 6. If a dictionary is stored in spam, what is the difference between the expressions &#39;cat&#39; in spam and\n",
        "&#39;cat&#39; in spam.values()?\n",
        "\n",
        "Answer:- cat' in spam checks whether there is a 'cat' key in the dictionary, while 'cat' in spam.values() checks whether there is a value 'cat' for one of the keys in spam."
      ],
      "metadata": {
        "id": "pS2s3J2vesKQ"
      }
    },
    {
      "cell_type": "code",
      "source": [],
      "metadata": {
        "id": "fjesauBKe30c"
      },
      "execution_count": null,
      "outputs": []
    },
    {
      "cell_type": "markdown",
      "source": [
        "## 7. What is a shortcut for the following code?\n",
        "if &#39;color&#39; not in spam:\n",
        "spam[&#39;color&#39;] = &#39;black&#39;\n",
        "\n",
        "Answer:- spam.setdefault('color', 'black')"
      ],
      "metadata": {
        "id": "8gw_6gsSe5MD"
      }
    },
    {
      "cell_type": "code",
      "source": [],
      "metadata": {
        "id": "-obta46rfCeZ"
      },
      "execution_count": null,
      "outputs": []
    },
    {
      "cell_type": "markdown",
      "source": [
        "## 8. How do you &quot;pretty print&quot; dictionary values using which module and function?\n",
        "\n",
        "Answer:- pprint.pprint()"
      ],
      "metadata": {
        "id": "zVzmQPBkfDLk"
      }
    },
    {
      "cell_type": "code",
      "source": [],
      "metadata": {
        "id": "P7I7kO9kfKjI"
      },
      "execution_count": null,
      "outputs": []
    }
  ]
}